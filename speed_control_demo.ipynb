{
 "cells": [
  {
   "cell_type": "code",
   "execution_count": 2,
   "metadata": {},
   "outputs": [
    {
     "ename": "error",
     "evalue": "display Surface quit",
     "output_type": "error",
     "traceback": [
      "\u001b[0;31m---------------------------------------------------------------------------\u001b[0m",
      "\u001b[0;31merror\u001b[0m                                     Traceback (most recent call last)",
      "\u001b[0;32m<ipython-input-2-50d02522cc5a>\u001b[0m in \u001b[0;36m<module>\u001b[0;34m\u001b[0m\n\u001b[1;32m     53\u001b[0m \u001b[0;34m\u001b[0m\u001b[0m\n\u001b[1;32m     54\u001b[0m \u001b[0;34m\u001b[0m\u001b[0m\n\u001b[0;32m---> 55\u001b[0;31m     \u001b[0mscreen\u001b[0m\u001b[0;34m.\u001b[0m\u001b[0mfill\u001b[0m\u001b[0;34m(\u001b[0m\u001b[0;34m(\u001b[0m\u001b[0;36m255\u001b[0m\u001b[0;34m,\u001b[0m \u001b[0;36m255\u001b[0m\u001b[0;34m,\u001b[0m \u001b[0;36m255\u001b[0m\u001b[0;34m)\u001b[0m\u001b[0;34m)\u001b[0m\u001b[0;34m\u001b[0m\u001b[0;34m\u001b[0m\u001b[0m\n\u001b[0m\u001b[1;32m     56\u001b[0m     \u001b[0;32mfor\u001b[0m \u001b[0mcar\u001b[0m \u001b[0;32min\u001b[0m \u001b[0mcars\u001b[0m\u001b[0;34m:\u001b[0m\u001b[0;34m\u001b[0m\u001b[0;34m\u001b[0m\u001b[0m\n\u001b[1;32m     57\u001b[0m         \u001b[0mpygame\u001b[0m\u001b[0;34m.\u001b[0m\u001b[0mdraw\u001b[0m\u001b[0;34m.\u001b[0m\u001b[0mrect\u001b[0m\u001b[0;34m(\u001b[0m\u001b[0mscreen\u001b[0m\u001b[0;34m,\u001b[0m \u001b[0;36m0\u001b[0m\u001b[0;34m,\u001b[0m \u001b[0;34m[\u001b[0m\u001b[0mcar\u001b[0m\u001b[0;34m.\u001b[0m\u001b[0mdistance\u001b[0m\u001b[0;34m,\u001b[0m\u001b[0;36m300\u001b[0m\u001b[0;34m,\u001b[0m\u001b[0;36m25\u001b[0m\u001b[0;34m,\u001b[0m\u001b[0;36m10\u001b[0m\u001b[0;34m]\u001b[0m\u001b[0;34m)\u001b[0m\u001b[0;34m\u001b[0m\u001b[0;34m\u001b[0m\u001b[0m\n",
      "\u001b[0;31merror\u001b[0m: display Surface quit"
     ]
    }
   ],
   "source": [
    "import pygame\n",
    "import itertools\n",
    "\n",
    "MAX_SPEED = 2\n",
    "FOLLOWING_TIME = 40\n",
    "BUFFER = 45\n",
    "\n",
    "pygame.init()\n",
    "screen = pygame.display.set_mode([900, 600])\n",
    "clock = pygame.time.Clock()\n",
    "\n",
    "\n",
    "class Car():\n",
    "    def __init__(self, distance):\n",
    "        self.acceleration = 0\n",
    "        self.speed = MAX_SPEED\n",
    "        self.distance = distance\n",
    "\n",
    "    def update_acceleration(self, front_car):\n",
    "        space = front_car.distance - self.distance - BUFFER\n",
    "        self.acceleration = \\\n",
    "        2*(space - FOLLOWING_TIME * self.speed) / FOLLOWING_TIME**2\n",
    "\n",
    "    def update_speed(self):\n",
    "        self.speed = max(0, min(MAX_SPEED, self.speed + self.acceleration))\n",
    "\n",
    "    def update_distance(self):\n",
    "        self.distance += self.speed\n",
    "\n",
    "\n",
    "cars = [Car(s*100) for s in range(-7,0)]\n",
    "\n",
    "\n",
    "for t in itertools.count():\n",
    "    clock.tick(60)\n",
    "    for event in pygame.event.get():\n",
    "        if event.type == pygame.QUIT:\n",
    "            pygame.quit()\n",
    "\n",
    "    for i in range(len(cars)):\n",
    "        car = cars[i]\n",
    "\n",
    "        if i == len(cars)-1:\n",
    "            if t == 200:\n",
    "                car.acceleration = -0.02\n",
    "            if t == 400:\n",
    "                car.acceleration = 0.02\n",
    "        else:\n",
    "            car.update_acceleration(cars[i+1])\n",
    "\n",
    "        car.update_speed()\n",
    "        car.update_distance()\n",
    "\n",
    "\n",
    "    screen.fill((255, 255, 255))\n",
    "    for car in cars:\n",
    "        pygame.draw.rect(screen, 0, [car.distance,300,25,10])\n",
    "    pygame.display.flip()"
   ]
  },
  {
   "cell_type": "code",
   "execution_count": null,
   "metadata": {},
   "outputs": [],
   "source": []
  }
 ],
 "metadata": {
  "kernelspec": {
   "display_name": "Python 3",
   "language": "python",
   "name": "python3"
  },
  "language_info": {
   "codemirror_mode": {
    "name": "ipython",
    "version": 3
   },
   "file_extension": ".py",
   "mimetype": "text/x-python",
   "name": "python",
   "nbconvert_exporter": "python",
   "pygments_lexer": "ipython3",
   "version": "3.7.5"
  }
 },
 "nbformat": 4,
 "nbformat_minor": 2
}
