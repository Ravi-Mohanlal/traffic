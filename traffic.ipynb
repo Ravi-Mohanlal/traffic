{
 "cells": [
  {
   "cell_type": "code",
   "execution_count": 1,
   "metadata": {},
   "outputs": [
    {
     "name": "stdout",
     "output_type": "stream",
     "text": [
      "pygame 1.9.4\n",
      "Hello from the pygame community. https://www.pygame.org/contribute.html\n"
     ]
    }
   ],
   "source": [
    "import pygame\n",
    "import itertools\n",
    "import random\n",
    "import numpy as np"
   ]
  },
  {
   "cell_type": "code",
   "execution_count": 2,
   "metadata": {},
   "outputs": [],
   "source": [
    "### Parameters ###\n",
    "\n",
    "H = 900\n",
    "MAX_SPEED = 3 # unit?\n",
    "FOLLOWING_TIME = 30\n",
    "BUFFER = 15\n",
    "SPAWN_PROBABILITY = 0.02\n",
    "CAR_WIDTH = 10\n",
    "CAR_LENGTH = (20,27)\n",
    "TRUCK_LENGTH = (42,50)\n",
    "TRUCK_PROBABILITY = 0.1\n",
    "ACCELERATION = 0.015\n",
    "DECELERATION = -0.2"
   ]
  },
  {
   "cell_type": "code",
   "execution_count": 3,
   "metadata": {},
   "outputs": [],
   "source": [
    "def center(l):\n",
    "    return np.array(l) + H/2"
   ]
  },
  {
   "cell_type": "code",
   "execution_count": 4,
   "metadata": {},
   "outputs": [],
   "source": [
    "def draw_car(p, l, w, a):\n",
    "    corners = [[-l/2,w/2], [l/2,w/2], [l/2,-w/2], [-l/2,-w/2]]\n",
    "\n",
    "    for c in corners:\n",
    "        temp = c[0]*np.cos(a) - c[1]*np.sin(a) + p[0]\n",
    "        c[1] = -c[0]*np.sin(a) - c[1]*np.cos(a) + p[1]\n",
    "        c[0] = temp\n",
    "\n",
    "    pygame.draw.polygon(screen, 1, center(corners))"
   ]
  },
  {
   "cell_type": "code",
   "execution_count": 5,
   "metadata": {},
   "outputs": [],
   "source": [
    "class Section():\n",
    "    def __init__(self, x, y, a, b, length):\n",
    "        self.x = x\n",
    "        self.y = y\n",
    "        self.a = a\n",
    "        self.b = b\n",
    "        self.length = length\n",
    "        self.last_car = None"
   ]
  },
  {
   "cell_type": "code",
   "execution_count": 6,
   "metadata": {},
   "outputs": [],
   "source": [
    "class Car():\n",
    "    def __init__(self, length, path):\n",
    "        self.length = length\n",
    "        self.path = path\n",
    "        self.i = 0\n",
    "        self.done = False\n",
    "        self.next_car = None\n",
    "        self.find_next_car(0)\n",
    "        self.distance = 0\n",
    "        self.position = path[0].get_position(0)\n",
    "        self.angle = path[0].get_angle(0)\n",
    "        self.speed = MAX_SPEED\n",
    "        self.acceleration = 0\n",
    "            \n",
    "    def update_acceleration(self):\n",
    "        self.acceleration = ACCELERATION\n",
    "        \n",
    "        if self.next_car:\n",
    "            space = self.next_car.distance - self.distance - self.length - BUFFER\n",
    "            if self.speed and space / self.speed < FOLLOWING_TIME:\n",
    "                self.acceleration = DECELERATION\n",
    "\n",
    "#         if self.path.blocked:\n",
    "#             space = self.path.stop_line - self.distance - self.length\n",
    "#             braking_distance = self.speed**2 / (2 * ACCELERATION)\n",
    "#             difference = space - braking_distance\n",
    "\n",
    "#             if 0 < difference < 10:\n",
    "#                 self.acceleration = DECELERATION\n",
    "\n",
    "    def update_speed(self):\n",
    "        self.speed = max(0, min(MAX_SPEED, self.speed + self.acceleration))\n",
    "\n",
    "    def update_position(self):\n",
    "        self.distance += self.speed   \n",
    "        section = self.path[self.i]\n",
    "        self.position = section.get_position(self.distance)\n",
    "        self.angle = section.get_angle(self.distance)\n",
    "    \n",
    "    def find_next_car(self, n=1):\n",
    "        next_car = self.next_car\n",
    "        \n",
    "        if not next_car or next_car.done or next_car.path[next_car.i] not in self.path:\n",
    "            self.next_car = None\n",
    "            \n",
    "            for section in self.path[self.i+n:]:\n",
    "                self.next_car = section.last_car\n",
    "                if self.next_car:\n",
    "                    return\n",
    "    \n",
    "    def update_section(self):\n",
    "        section = self.path[self.i]\n",
    "\n",
    "        if self.distance > section.length:\n",
    "            self.distance -= section.length\n",
    "\n",
    "            if section.last_car == self:\n",
    "                section.last_car = None\n",
    "            if self.i == len(self.path) - 1:\n",
    "                self.done = True\n",
    "            else:\n",
    "                self.i += 1\n",
    "                self.path[self.i].last_car = self\n",
    "            \n",
    "            return True"
   ]
  },
  {
   "cell_type": "code",
   "execution_count": 7,
   "metadata": {},
   "outputs": [],
   "source": [
    "class Line(Section):\n",
    "    def get_position(self, s):\n",
    "        return (self.x + self.a*s, self.y + self.b*s)\n",
    "\n",
    "    def get_angle(self, s):\n",
    "        return np.arctan2(-self.b, self.a)"
   ]
  },
  {
   "cell_type": "code",
   "execution_count": 8,
   "metadata": {},
   "outputs": [],
   "source": [
    "class Curve(Section):\n",
    "    def __init__(self, x, y, a, b, r):\n",
    "        super().__init__(x, y, a, b, np.pi*r/2)\n",
    "        self.r = r\n",
    "\n",
    "    def get_position(self, s):\n",
    "        c = self.a*np.pi/2 + self.b*s/self.r\n",
    "        return (self.x+self.r*np.cos(c), self.y-self.r*np.sin(c))\n",
    "    \n",
    "    def get_angle(self, s):\n",
    "        return (self.a+1)*np.pi/2 + self.b*s/self.r"
   ]
  },
  {
   "cell_type": "code",
   "execution_count": 9,
   "metadata": {},
   "outputs": [],
   "source": [
    "def update_cars():\n",
    "    switched = False\n",
    "\n",
    "    for car in cars:\n",
    "#         car.update_acceleration()\n",
    "        car.update_speed()\n",
    "        car.update_position()\n",
    "\n",
    "        if car.update_section():\n",
    "            switched = True\n",
    "        if car.done:\n",
    "            cars.remove(car)\n",
    "\n",
    "    if switched:\n",
    "        for car in cars:\n",
    "            car.find_next_car()"
   ]
  },
  {
   "cell_type": "code",
   "execution_count": 10,
   "metadata": {},
   "outputs": [],
   "source": [
    "def spawn_car():    \n",
    "    if random.random() < SPAWN_PROBABILITY:\n",
    "        if random.random() < TRUCK_PROBABILITY:\n",
    "            length = random.randint(*TRUCK_LENGTH)\n",
    "        else:\n",
    "            length = random.randint(*CAR_LENGTH)\n",
    "\n",
    "        path = random.choice(paths)\n",
    "        car = Car(length, path)\n",
    "        cars.append(car)\n",
    "        path[0].last_car = car"
   ]
  },
  {
   "cell_type": "code",
   "execution_count": 11,
   "metadata": {},
   "outputs": [
    {
     "ename": "error",
     "evalue": "display Surface quit",
     "output_type": "error",
     "traceback": [
      "\u001b[0;31m---------------------------------------------------------------------------\u001b[0m",
      "\u001b[0;31merror\u001b[0m                                     Traceback (most recent call last)",
      "\u001b[0;32m<ipython-input-11-4963e5076112>\u001b[0m in \u001b[0;36m<module>\u001b[0;34m\u001b[0m\n\u001b[1;32m     37\u001b[0m \u001b[0;34m\u001b[0m\u001b[0m\n\u001b[1;32m     38\u001b[0m     \u001b[0;31m# draw all graphics\u001b[0m\u001b[0;34m\u001b[0m\u001b[0;34m\u001b[0m\u001b[0;34m\u001b[0m\u001b[0m\n\u001b[0;32m---> 39\u001b[0;31m     \u001b[0mscreen\u001b[0m\u001b[0;34m.\u001b[0m\u001b[0mfill\u001b[0m\u001b[0;34m(\u001b[0m\u001b[0;34m(\u001b[0m\u001b[0;36m255\u001b[0m\u001b[0;34m,\u001b[0m \u001b[0;36m255\u001b[0m\u001b[0;34m,\u001b[0m \u001b[0;36m255\u001b[0m\u001b[0;34m)\u001b[0m\u001b[0;34m)\u001b[0m\u001b[0;34m\u001b[0m\u001b[0;34m\u001b[0m\u001b[0m\n\u001b[0m\u001b[1;32m     40\u001b[0m     \u001b[0;32mfor\u001b[0m \u001b[0mcar\u001b[0m \u001b[0;32min\u001b[0m \u001b[0mcars\u001b[0m\u001b[0;34m:\u001b[0m\u001b[0;34m\u001b[0m\u001b[0;34m\u001b[0m\u001b[0m\n\u001b[1;32m     41\u001b[0m         \u001b[0mdraw_car\u001b[0m\u001b[0;34m(\u001b[0m\u001b[0mcar\u001b[0m\u001b[0;34m.\u001b[0m\u001b[0mposition\u001b[0m\u001b[0;34m,\u001b[0m \u001b[0mcar\u001b[0m\u001b[0;34m.\u001b[0m\u001b[0mlength\u001b[0m\u001b[0;34m,\u001b[0m \u001b[0mCAR_WIDTH\u001b[0m\u001b[0;34m,\u001b[0m \u001b[0mcar\u001b[0m\u001b[0;34m.\u001b[0m\u001b[0mangle\u001b[0m\u001b[0;34m)\u001b[0m\u001b[0;34m\u001b[0m\u001b[0;34m\u001b[0m\u001b[0m\n",
      "\u001b[0;31merror\u001b[0m: display Surface quit"
     ]
    }
   ],
   "source": [
    "pygame.init()\n",
    "screen = pygame.display.set_mode((H,H))\n",
    "clock = pygame.time.Clock()\n",
    "\n",
    "L = 50\n",
    "B = 200\n",
    "\n",
    "cars = []\n",
    "sections = [Line(L/2, H/2, 0, -1, H/2-L-B),\n",
    "            Line(L/2, L+B, 0, -1, B),\n",
    "            Line(L/2, L, 0, -1, L),\n",
    "            Line(L/2, 0, 0, -1, L),\n",
    "            Line(L/2, -L, 0, -1, H/2-L),\n",
    "            Curve(L, L, 2, -1, L/2),\n",
    "            Curve(0, 0, 0, 1, L/2)]\n",
    "\n",
    "for _ in range(3):\n",
    "    for s in sections[-7:]:\n",
    "        if isinstance(s, Line):\n",
    "            sections.append(Line(s.y,-s.x,s.b,-s.a,s.length))\n",
    "        else:\n",
    "            sections.append(Curve(s.y,-s.x,s.a+1,s.b,s.r))\n",
    "\n",
    "l = [[0,1,2,3,4], [0,1,5,25], [0,1,2,6,10,11]]\n",
    "paths = [[sections[(n+i*7)%28] for n in p] for i in range(4) for p in l]\n",
    "\n",
    "\n",
    "### game loop ###\n",
    "for t in itertools.count():\n",
    "    clock.tick(60)\n",
    "    for event in pygame.event.get():\n",
    "        if event.type == pygame.QUIT:\n",
    "            pygame.quit()\n",
    "    \n",
    "    spawn_car()\n",
    "    update_cars()\n",
    "    \n",
    "    # draw all graphics\n",
    "    screen.fill((255, 255, 255))\n",
    "    for car in cars:\n",
    "        draw_car(car.position, car.length, CAR_WIDTH, car.angle)\n",
    "    pygame.display.flip()\n",
    "\n",
    "    "
   ]
  },
  {
   "cell_type": "code",
   "execution_count": null,
   "metadata": {},
   "outputs": [],
   "source": []
  },
  {
   "cell_type": "code",
   "execution_count": null,
   "metadata": {},
   "outputs": [],
   "source": []
  },
  {
   "cell_type": "code",
   "execution_count": null,
   "metadata": {},
   "outputs": [],
   "source": []
  }
 ],
 "metadata": {
  "kernelspec": {
   "display_name": "Python 3",
   "language": "python",
   "name": "python3"
  },
  "language_info": {
   "codemirror_mode": {
    "name": "ipython",
    "version": 3
   },
   "file_extension": ".py",
   "mimetype": "text/x-python",
   "name": "python",
   "nbconvert_exporter": "python",
   "pygments_lexer": "ipython3",
   "version": "3.7.5"
  }
 },
 "nbformat": 4,
 "nbformat_minor": 2
}
