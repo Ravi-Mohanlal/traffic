{
 "cells": [
  {
   "cell_type": "markdown",
   "metadata": {},
   "source": [
    "This program implements a mechanism for how cars on the same lane react to eachother."
   ]
  },
  {
   "cell_type": "code",
   "execution_count": 1,
   "metadata": {},
   "outputs": [
    {
     "name": "stdout",
     "output_type": "stream",
     "text": [
      "pygame 1.9.4\n",
      "Hello from the pygame community. https://www.pygame.org/contribute.html\n"
     ]
    }
   ],
   "source": [
    "import pygame\n",
    "import itertools\n",
    "import random"
   ]
  },
  {
   "cell_type": "code",
   "execution_count": 2,
   "metadata": {},
   "outputs": [],
   "source": [
    "MAX_SPEED = 2\n",
    "FOLLOWING_TIME = 40\n",
    "BUFFER = 20\n",
    "CAR_WIDTH = 10\n",
    "CAR_LENGTH = (20,27)\n",
    "TRUCK_LENGTH = (42,50)\n",
    "TRUCK_PROBABILITY = 0.1"
   ]
  },
  {
   "cell_type": "code",
   "execution_count": 3,
   "metadata": {},
   "outputs": [],
   "source": [
    "class Car():\n",
    "    def __init__(self, distance):\n",
    "        self.acceleration = 0\n",
    "        self.speed = MAX_SPEED\n",
    "        self.distance = distance\n",
    "\n",
    "        if random.random() < TRUCK_PROBABILITY:\n",
    "            self.length = random.randint(*TRUCK_LENGTH)\n",
    "        else:\n",
    "            self.length = random.randint(*CAR_LENGTH)\n",
    "            \n",
    "\n",
    "# The acceleration gets chosen such that the \"following time\" behind the next\n",
    "# car is a certain constant (think of the 2-second rule).\n",
    "# This makes use of the physics equation: s = v0*t + 1/2*a*t^2\n",
    "    def update_acceleration(self, front_car):\n",
    "        space = front_car.distance - self.distance - self.length - BUFFER\n",
    "        self.acceleration = \\\n",
    "        2*(space - FOLLOWING_TIME * self.speed) / FOLLOWING_TIME**2\n",
    "\n",
    "    def update_speed(self):\n",
    "        self.speed = max(0, min(MAX_SPEED, self.speed + self.acceleration))\n",
    "\n",
    "    def update_distance(self):\n",
    "        self.distance += self.speed"
   ]
  },
  {
   "cell_type": "code",
   "execution_count": 95,
   "metadata": {},
   "outputs": [],
   "source": [
    "def update_cars(cars):\n",
    "    for i in range(len(cars)):\n",
    "        car = cars[i]\n",
    "\n",
    "# The front car breaks at t=200 and starts driving again at t=400.\n",
    "        if i == len(cars)-1:\n",
    "            if t == 200:\n",
    "                car.acceleration = -0.02\n",
    "            if t == 400:\n",
    "                car.acceleration = 0.02\n",
    "# All the other cars react to the car in front of it.\n",
    "        else:\n",
    "            car.update_acceleration(cars[i+1])\n",
    "\n",
    "        car.update_speed()\n",
    "        car.update_distance()"
   ]
  },
  {
   "cell_type": "code",
   "execution_count": 96,
   "metadata": {},
   "outputs": [
    {
     "ename": "error",
     "evalue": "display Surface quit",
     "output_type": "error",
     "traceback": [
      "\u001b[0;31m---------------------------------------------------------------------------\u001b[0m",
      "\u001b[0;31merror\u001b[0m                                     Traceback (most recent call last)",
      "\u001b[0;32m<ipython-input-96-9d602d0addd4>\u001b[0m in \u001b[0;36m<module>\u001b[0;34m\u001b[0m\n\u001b[1;32m     10\u001b[0m     \u001b[0mupdate_cars\u001b[0m\u001b[0;34m(\u001b[0m\u001b[0mcars\u001b[0m\u001b[0;34m)\u001b[0m\u001b[0;34m\u001b[0m\u001b[0;34m\u001b[0m\u001b[0m\n\u001b[1;32m     11\u001b[0m \u001b[0;34m\u001b[0m\u001b[0m\n\u001b[0;32m---> 12\u001b[0;31m     \u001b[0mscreen\u001b[0m\u001b[0;34m.\u001b[0m\u001b[0mfill\u001b[0m\u001b[0;34m(\u001b[0m\u001b[0;34m(\u001b[0m\u001b[0;36m255\u001b[0m\u001b[0;34m,\u001b[0m \u001b[0;36m255\u001b[0m\u001b[0;34m,\u001b[0m \u001b[0;36m255\u001b[0m\u001b[0;34m)\u001b[0m\u001b[0;34m)\u001b[0m\u001b[0;34m\u001b[0m\u001b[0;34m\u001b[0m\u001b[0m\n\u001b[0m\u001b[1;32m     13\u001b[0m     \u001b[0;32mfor\u001b[0m \u001b[0mcar\u001b[0m \u001b[0;32min\u001b[0m \u001b[0mcars\u001b[0m\u001b[0;34m:\u001b[0m\u001b[0;34m\u001b[0m\u001b[0;34m\u001b[0m\u001b[0m\n\u001b[1;32m     14\u001b[0m         \u001b[0mpygame\u001b[0m\u001b[0;34m.\u001b[0m\u001b[0mdraw\u001b[0m\u001b[0;34m.\u001b[0m\u001b[0mrect\u001b[0m\u001b[0;34m(\u001b[0m\u001b[0mscreen\u001b[0m\u001b[0;34m,\u001b[0m \u001b[0;36m0\u001b[0m\u001b[0;34m,\u001b[0m \u001b[0;34m[\u001b[0m\u001b[0mcar\u001b[0m\u001b[0;34m.\u001b[0m\u001b[0mdistance\u001b[0m\u001b[0;34m,\u001b[0m \u001b[0;36m300\u001b[0m\u001b[0;34m,\u001b[0m \u001b[0mcar\u001b[0m\u001b[0;34m.\u001b[0m\u001b[0mlength\u001b[0m\u001b[0;34m,\u001b[0m \u001b[0mCAR_WIDTH\u001b[0m\u001b[0;34m]\u001b[0m\u001b[0;34m)\u001b[0m\u001b[0;34m\u001b[0m\u001b[0;34m\u001b[0m\u001b[0m\n",
      "\u001b[0;31merror\u001b[0m: display Surface quit"
     ]
    }
   ],
   "source": [
    "# Initialize 7 cars, 100 pixels apart.\n",
    "cars = [Car(s*100) for s in range(-7,0)]\n",
    "\n",
    "pygame.init()\n",
    "screen = pygame.display.set_mode([900, 600])\n",
    "clock = pygame.time.Clock()\n",
    "\n",
    "for t in itertools.count():\n",
    "    clock.tick(60)\n",
    "    update_cars(cars)\n",
    "            \n",
    "    screen.fill((255, 255, 255))\n",
    "    for car in cars:\n",
    "        pygame.draw.rect(screen, 0, [car.distance, 300, car.length, CAR_WIDTH])\n",
    "    pygame.display.flip()\n",
    "\n",
    "    for event in pygame.event.get():\n",
    "        if event.type == pygame.QUIT:\n",
    "            pygame.quit()"
   ]
  },
  {
   "cell_type": "code",
   "execution_count": null,
   "metadata": {},
   "outputs": [],
   "source": []
  },
  {
   "cell_type": "code",
   "execution_count": null,
   "metadata": {},
   "outputs": [],
   "source": []
  }
 ],
 "metadata": {
  "kernelspec": {
   "display_name": "Python 3",
   "language": "python",
   "name": "python3"
  },
  "language_info": {
   "codemirror_mode": {
    "name": "ipython",
    "version": 3
   },
   "file_extension": ".py",
   "mimetype": "text/x-python",
   "name": "python",
   "nbconvert_exporter": "python",
   "pygments_lexer": "ipython3",
   "version": "3.7.5"
  }
 },
 "nbformat": 4,
 "nbformat_minor": 2
}
