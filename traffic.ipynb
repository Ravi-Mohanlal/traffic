{
 "cells": [
  {
   "cell_type": "markdown",
   "metadata": {},
   "source": [
    "This program implements a mechanism for how cars on the same lane react to eachother."
   ]
  },
  {
   "cell_type": "code",
   "execution_count": 275,
   "metadata": {},
   "outputs": [],
   "source": [
    "import pygame\n",
    "import itertools\n",
    "import random"
   ]
  },
  {
   "cell_type": "code",
   "execution_count": 276,
   "metadata": {},
   "outputs": [],
   "source": [
    "MAX_SPEED = 3\n",
    "FOLLOWING_TIME = 30\n",
    "BUFFER = 15\n",
    "CAR_WIDTH = 10\n",
    "CAR_LENGTH = (20,27)\n",
    "TRUCK_LENGTH = (42,50)\n",
    "TRUCK_PROBABILITY = 0.1\n",
    "ACCELERATION = 0.015\n",
    "DECELERATION = -0.2"
   ]
  },
  {
   "cell_type": "code",
   "execution_count": 277,
   "metadata": {},
   "outputs": [],
   "source": [
    "class Car():\n",
    "    def __init__(self, distance):\n",
    "        self.acceleration = 0\n",
    "        self.speed = MAX_SPEED\n",
    "        self.distance = distance\n",
    "\n",
    "        if random.random() < TRUCK_PROBABILITY:\n",
    "            self.length = random.randint(*TRUCK_LENGTH)\n",
    "        else:\n",
    "            self.length = random.randint(*CAR_LENGTH)\n",
    "            \n",
    "    def update_acceleration(self, front_car):\n",
    "        self.acceleration = ACCELERATION\n",
    "        \n",
    "        if front_car:\n",
    "            space = front_car.distance - self.distance - self.length - BUFFER\n",
    "            if self.speed and space / self.speed < FOLLOWING_TIME:\n",
    "                self.acceleration = DECELERATION\n",
    "\n",
    "        if blocked:\n",
    "            space = 450 - self.distance - self.length\n",
    "            braking_distance = self.speed**2 / (2 * ACCELERATION)\n",
    "            difference = space - braking_distance\n",
    "\n",
    "            if difference > 0 and difference < 10:\n",
    "                self.acceleration = DECELERATION\n",
    "\n",
    "    def update_speed(self):\n",
    "        self.speed = max(0, min(MAX_SPEED, self.speed + self.acceleration))\n",
    "\n",
    "    def update_distance(self):\n",
    "        self.distance += self.speed"
   ]
  },
  {
   "cell_type": "code",
   "execution_count": 278,
   "metadata": {},
   "outputs": [],
   "source": [
    "def update_cars(cars):\n",
    "    for i in range(len(cars)):\n",
    "        car = cars[i]\n",
    "        front_car = cars[i+1] if i+1 != len(cars) else 0\n",
    "\n",
    "        car.update_acceleration(front_car)\n",
    "        car.update_speed()\n",
    "        car.update_distance()"
   ]
  },
  {
   "cell_type": "code",
   "execution_count": 279,
   "metadata": {},
   "outputs": [
    {
     "ename": "error",
     "evalue": "display Surface quit",
     "output_type": "error",
     "traceback": [
      "\u001b[0;31m---------------------------------------------------------------------------\u001b[0m",
      "\u001b[0;31merror\u001b[0m                                     Traceback (most recent call last)",
      "\u001b[0;32m<ipython-input-279-ed6a172a6dd0>\u001b[0m in \u001b[0;36m<module>\u001b[0;34m\u001b[0m\n\u001b[1;32m     14\u001b[0m     \u001b[0mupdate_cars\u001b[0m\u001b[0;34m(\u001b[0m\u001b[0mcars\u001b[0m\u001b[0;34m)\u001b[0m\u001b[0;34m\u001b[0m\u001b[0;34m\u001b[0m\u001b[0m\n\u001b[1;32m     15\u001b[0m \u001b[0;34m\u001b[0m\u001b[0m\n\u001b[0;32m---> 16\u001b[0;31m     \u001b[0mscreen\u001b[0m\u001b[0;34m.\u001b[0m\u001b[0mfill\u001b[0m\u001b[0;34m(\u001b[0m\u001b[0;34m(\u001b[0m\u001b[0;36m255\u001b[0m\u001b[0;34m,\u001b[0m \u001b[0;36m255\u001b[0m\u001b[0;34m,\u001b[0m \u001b[0;36m255\u001b[0m\u001b[0;34m)\u001b[0m\u001b[0;34m)\u001b[0m\u001b[0;34m\u001b[0m\u001b[0;34m\u001b[0m\u001b[0m\n\u001b[0m\u001b[1;32m     17\u001b[0m     \u001b[0;32mfor\u001b[0m \u001b[0mcar\u001b[0m \u001b[0;32min\u001b[0m \u001b[0mcars\u001b[0m\u001b[0;34m:\u001b[0m\u001b[0;34m\u001b[0m\u001b[0;34m\u001b[0m\u001b[0m\n\u001b[1;32m     18\u001b[0m         \u001b[0mpygame\u001b[0m\u001b[0;34m.\u001b[0m\u001b[0mdraw\u001b[0m\u001b[0;34m.\u001b[0m\u001b[0mrect\u001b[0m\u001b[0;34m(\u001b[0m\u001b[0mscreen\u001b[0m\u001b[0;34m,\u001b[0m \u001b[0;36m0\u001b[0m\u001b[0;34m,\u001b[0m \u001b[0;34m(\u001b[0m\u001b[0mcar\u001b[0m\u001b[0;34m.\u001b[0m\u001b[0mdistance\u001b[0m\u001b[0;34m,\u001b[0m \u001b[0;36m300\u001b[0m\u001b[0;34m,\u001b[0m \u001b[0mcar\u001b[0m\u001b[0;34m.\u001b[0m\u001b[0mlength\u001b[0m\u001b[0;34m,\u001b[0m \u001b[0mCAR_WIDTH\u001b[0m\u001b[0;34m)\u001b[0m\u001b[0;34m)\u001b[0m\u001b[0;34m\u001b[0m\u001b[0;34m\u001b[0m\u001b[0m\n",
      "\u001b[0;31merror\u001b[0m: display Surface quit"
     ]
    }
   ],
   "source": [
    "pygame.init()\n",
    "screen = pygame.display.set_mode([900, 600])\n",
    "clock = pygame.time.Clock()\n",
    "\n",
    "cars = [Car(s*70) for s in range(-20,0)]\n",
    "blocked = False\n",
    "\n",
    "for t in itertools.count():\n",
    "    clock.tick(60)\n",
    "\n",
    "    if not t%300:\n",
    "        blocked = not blocked\n",
    "\n",
    "    update_cars(cars)\n",
    "            \n",
    "    screen.fill((255, 255, 255))\n",
    "    for car in cars:\n",
    "        pygame.draw.rect(screen, 0, (car.distance, 300, car.length, CAR_WIDTH))\n",
    "    if blocked:\n",
    "        pygame.draw.line(screen, 0, (450,295), (450,315), 2)\n",
    "    pygame.display.flip()\n",
    "\n",
    "    for event in pygame.event.get():\n",
    "        if event.type == pygame.QUIT:\n",
    "            pygame.quit()"
   ]
  },
  {
   "cell_type": "code",
   "execution_count": null,
   "metadata": {},
   "outputs": [],
   "source": []
  },
  {
   "cell_type": "code",
   "execution_count": null,
   "metadata": {},
   "outputs": [],
   "source": []
  }
 ],
 "metadata": {
  "kernelspec": {
   "display_name": "Python 3",
   "language": "python",
   "name": "python3"
  },
  "language_info": {
   "codemirror_mode": {
    "name": "ipython",
    "version": 3
   },
   "file_extension": ".py",
   "mimetype": "text/x-python",
   "name": "python",
   "nbconvert_exporter": "python",
   "pygments_lexer": "ipython3",
   "version": "3.7.5"
  }
 },
 "nbformat": 4,
 "nbformat_minor": 2
}
